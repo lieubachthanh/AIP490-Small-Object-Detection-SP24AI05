{
 "cells": [
  {
   "cell_type": "code",
   "execution_count": 2,
   "metadata": {},
   "outputs": [],
   "source": [
    "import cv2\n",
    "import numpy as np\n",
    "\n",
    "def draw_bounding_box(image_path, label_path, output_path):\n",
    "    # Read the image\n",
    "    image = cv2.imread(image_path)\n",
    "\n",
    "    # Read the content of the label file\n",
    "    with open(label_path, 'r') as label_file:\n",
    "        lines = label_file.readlines()\n",
    "\n",
    "    # Draw bounding boxes based on the information in the label\n",
    "    for line in lines:\n",
    "        # Split the line content into parts by whitespace\n",
    "        parts = line.split()\n",
    "        if parts:\n",
    "            # Extract the first element of the line (assuming it's a label)\n",
    "            label = parts[0]\n",
    "\n",
    "            # Convert coordinate values to pixel format\n",
    "            x, y, w, h = map(float, parts[1:])\n",
    "            height, width, _ = image.shape\n",
    "            x1 = int((x - w / 2) * width)\n",
    "            y1 = int((y - h / 2) * height)\n",
    "            x2 = int((x + w / 2) * width)\n",
    "            y2 = int((y + h / 2) * height)\n",
    "\n",
    "            # Draw bounding box on the image\n",
    "            cv2.rectangle(image, (x1, y1), (x2, y2), (0, 255, 0), 2)\n",
    "\n",
    "            # Draw the label on the image\n",
    "            cv2.putText(image, label, (x1, y1 - 10), cv2.FONT_HERSHEY_SIMPLEX, 0.5, (255, 255, 255), 1)\n",
    "\n",
    "    # Save the image with the drawn bounding boxes and labels\n",
    "    cv2.imwrite(output_path, image)\n",
    "\n",
    "imgpath = r\"data\\images\\0000127_00002_d_0000119\\images\\0000127_00002_d_0000119.jpg\"\n",
    "labelpath = r\"data\\images\\0000127_00002_d_0000119\\labels\\0000127_00002_d_0000119.txt\"\n",
    "output_path2 = 'output_with_bounding_box_val.jpg'\n",
    "# Call the function to draw bounding boxes with labels\n",
    "draw_bounding_box(imgpath, labelpath, output_path2)\n",
    "# draw_bounding_box(image_path, label_path, output_path1)"
   ]
  },
  {
   "cell_type": "code",
   "execution_count": 2,
   "metadata": {},
   "outputs": [],
   "source": [
    "import yaml\n",
    "\n",
    "# Load the YAML file\n",
    "with open('data/test.yaml', 'r') as file:\n",
    "    data = yaml.safe_load(file)\n",
    "\n",
    "# Replace the paths\n",
    "data['test'] = 'neww/images'\n",
    "data['val'] = 'neww/images'\n",
    "data['train'] = 'neww/images'\n",
    "\n",
    "# Write the changes back to the file\n",
    "with open('your_yaml_file.yaml', 'w') as file:\n",
    "    yaml.dump(data, file)\n"
   ]
  },
  {
   "cell_type": "code",
   "execution_count": 3,
   "metadata": {},
   "outputs": [],
   "source": [
    "import os\n",
    "import shutil\n"
   ]
  },
  {
   "cell_type": "code",
   "execution_count": 4,
   "metadata": {},
   "outputs": [],
   "source": [
    "def copy_file(source_file, destination_file):\n",
    "    try:\n",
    "        # Sao chép tệp\n",
    "        shutil.copy(source_file, destination_file)\n",
    "    except Exception as e:\n",
    "        print(e)\n"
   ]
  },
  {
   "cell_type": "code",
   "execution_count": 1,
   "metadata": {},
   "outputs": [],
   "source": [
    "import os\n",
    "import shutil\n",
    "def copy_file(source_file, destination_file):\n",
    "    try:\n",
    "        # Sao chép tệp\n",
    "        shutil.copy(source_file, destination_file)\n",
    "    except Exception as e:\n",
    "        print(e)\n",
    "image = input('nhập tên image')\n",
    "path = f'D:\\ACADEMIC\\Capstone\\streamlit-yolov5-cus\\data\\images\\{image}'\n",
    "img_path = f'D:\\ACADEMIC\\Capstone\\streamlit-yolov5-cus\\data\\images\\{image}\\images'\n",
    "label_path = f'D:\\ACADEMIC\\Capstone\\streamlit-yolov5-cus\\data\\images\\{image}\\labels'\n",
    "sourceimg = f'D:\\ACADEMIC\\Capstone\\SOD-main\\VisDrone\\data\\VisDrone2019-DET-test-dev\\images\\{image}.jpg'\n",
    "sourcelabel = f'D:\\ACADEMIC\\Capstone\\SOD-main\\VisDrone\\data\\VisDrone2019-DET-test-dev\\labels\\{image}.txt'\n",
    "destination_img = f'D:\\ACADEMIC\\Capstone\\streamlit-yolov5-cus\\data\\images\\{image}\\images\\{image}.jpg'\n",
    "destination_label = f'D:\\ACADEMIC\\Capstone\\streamlit-yolov5-cus\\data\\images\\{image}\\labels\\{image}.txt'\n",
    "try:\n",
    "    os.mkdir(path)\n",
    "except:\n",
    "    pass\n",
    "if os.path.exists(path):\n",
    "    os.mkdir(img_path)\n",
    "    os.mkdir(label_path)\n",
    "    copy_file(sourceimg, destination_img)\n",
    "    copy_file(sourcelabel, destination_label)\n",
    "else:\n",
    "    print(\"Đường dẫn không tồn tại.\")"
   ]
  }
 ],
 "metadata": {
  "kernelspec": {
   "display_name": "Python 3",
   "language": "python",
   "name": "python3"
  },
  "language_info": {
   "codemirror_mode": {
    "name": "ipython",
    "version": 3
   },
   "file_extension": ".py",
   "mimetype": "text/x-python",
   "name": "python",
   "nbconvert_exporter": "python",
   "pygments_lexer": "ipython3",
   "version": "3.10.4"
  }
 },
 "nbformat": 4,
 "nbformat_minor": 2
}
